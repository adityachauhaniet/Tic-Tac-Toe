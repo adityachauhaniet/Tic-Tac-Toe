{
  "cells": [
    {
      "cell_type": "markdown",
      "metadata": {
        "id": "view-in-github",
        "colab_type": "text"
      },
      "source": [
        "<a href=\"https://colab.research.google.com/github/adityachauhaniet/Tic-Tac-Toe/blob/main/TicTacToe.ipynb\" target=\"_parent\"><img src=\"https://colab.research.google.com/assets/colab-badge.svg\" alt=\"Open In Colab\"/></a>"
      ]
    },
    {
      "cell_type": "markdown",
      "metadata": {
        "id": "tWtE9nvyfguF"
      },
      "source": [
        "Tic Tac Toe Game Using Reinforcement Learning(Q-Learning)"
      ]
    },
    {
      "cell_type": "markdown",
      "metadata": {
        "id": "bie0JRw2Cisd"
      },
      "source": [
        "**Importing  library**"
      ]
    },
    {
      "cell_type": "code",
      "execution_count": null,
      "metadata": {
        "id": "C4BhV1oQCoJA"
      },
      "outputs": [],
      "source": [
        "import numpy as np\n",
        "import pickle"
      ]
    },
    {
      "cell_type": "markdown",
      "metadata": {
        "id": "wokSIV8v3-9s"
      },
      "source": [
        "**Initializing the Board**"
      ]
    },
    {
      "cell_type": "code",
      "execution_count": null,
      "metadata": {
        "id": "VCJCgaerCxqM"
      },
      "outputs": [],
      "source": [
        "BOARD_ROWS = 3\n",
        "BOARD_COLS = 3"
      ]
    },
    {
      "cell_type": "markdown",
      "metadata": {
        "id": "mY4e2kS2DEAN"
      },
      "source": [
        "**Board State**"
      ]
    },
    {
      "cell_type": "markdown",
      "metadata": {
        "id": "kDifRnBjDKt8"
      },
      "source": [
        "Reflect & judge the state,\n",
        "\n",
        "2 players p1 & p2 ; p1 uses symbol 1 & p2 uses symbol 2, vacancy as 0\n"
      ]
    },
    {
      "cell_type": "code",
      "execution_count": null,
      "metadata": {
        "id": "CesENw7prauA"
      },
      "outputs": [],
      "source": [
        "class State:\n",
        "    def __init__(self, p1, p2):\n",
        "        self.board = np.zeros((BOARD_ROWS, BOARD_COLS))\n",
        "        self.p1 = p1\n",
        "        self.p2 = p2\n",
        "        self.isEnd = False\n",
        "        self.boardHash = None\n",
        "        self.playerSymbol = 1  # Player 1 starts\n",
        "\n",
        "    def getHash(self):\n",
        "        self.boardHash = str(self.board.reshape(BOARD_COLS * BOARD_ROWS))\n",
        "        return self.boardHash\n",
        "\n",
        "\n",
        "\n",
        "\n",
        "    def winner(self):\n",
        "    # Check rows\n",
        "        for i in range(BOARD_ROWS):\n",
        "            if sum(self.board[i, :]) == 3:\n",
        "               self.isEnd = True\n",
        "               return 1\n",
        "            if sum(self.board[i, :]) == -3:\n",
        "               self.isEnd = True\n",
        "               return -1\n",
        "\n",
        "    # Check columns\n",
        "        for i in range(BOARD_COLS):\n",
        "           if sum(self.board[:, i]) == 3:\n",
        "              self.isEnd = True\n",
        "              return 1\n",
        "           if sum(self.board[:, i]) == -3:\n",
        "              self.isEnd = True\n",
        "              return -1\n",
        "\n",
        "    # Check diagonals\n",
        "           if (self.board[0, 0] == 1 and self.board[1, 1] == 1 and self.board[2, 2] == 1) or \\\n",
        "              (self.board[0, 2] == 1 and self.board[1, 1] == 1 and self.board[2, 0] == 1):\n",
        "               self.isEnd = True\n",
        "               return 1  # Player 1 wins\n",
        "\n",
        "           if (self.board[0, 0] == -1 and self.board[1, 1] == -1 and self.board[2, 2] == -1) or \\\n",
        "              (self.board[0, 2] == -1 and self.board[1, 1] == -1 and self.board[2, 0] == -1):\n",
        "              self.isEnd = True\n",
        "              return -1  # Player 2 wins\n",
        "\n",
        "    # Check for tie (no available positions)\n",
        "           if len(self.availablePositions()) == 0:\n",
        "               self.isEnd = True\n",
        "               return 0\n",
        "\n",
        "    # Not end\n",
        "        self.isEnd = False\n",
        "        return None\n",
        "\n",
        "    def availablePositions(self):\n",
        "        positions = []\n",
        "        for i in range(BOARD_ROWS):\n",
        "            for j in range(BOARD_COLS):\n",
        "                if self.board[i, j] == 0:\n",
        "                    positions.append((i, j))  # need to be tuple\n",
        "        return positions\n",
        "\n",
        "    def updateState(self, position):\n",
        "        self.board[position] = self.playerSymbol\n",
        "        # Switch to another player\n",
        "        self.playerSymbol = -1 if self.playerSymbol == 1 else 1\n",
        "\n",
        "    def giveReward(self):\n",
        "        result = self.winner()\n",
        "        # Backpropagate reward\n",
        "        if result == 1:\n",
        "            self.p1.feedReward(1)\n",
        "            self.p2.feedReward(0)\n",
        "        elif result == -1:\n",
        "            self.p1.feedReward(0)\n",
        "            self.p2.feedReward(1)\n",
        "        else:\n",
        "            self.p1.feedReward(0.1)\n",
        "            self.p2.feedReward(0.5)\n",
        "\n",
        "    def reset(self):\n",
        "        self.board = np.zeros((BOARD_ROWS, BOARD_COLS))\n",
        "        self.boardHash = None\n",
        "        self.isEnd = False\n",
        "        self.playerSymbol = 1\n",
        "\n",
        "    def play(self, rounds=100):\n",
        "        for i in range(rounds):\n",
        "            if i % 1000 == 0:\n",
        "                print(\"Rounds {}\".format(i))\n",
        "            while not self.isEnd:\n",
        "                # Player 1\n",
        "                positions = self.availablePositions()\n",
        "                p1_action = self.p1.chooseAction(positions, self.board, self.playerSymbol)\n",
        "                self.updateState(p1_action)\n",
        "                board_hash = self.getHash()\n",
        "                self.p1.addState(board_hash)\n",
        "\n",
        "                win = self.winner()\n",
        "                if win is not None:\n",
        "                    self.giveReward()\n",
        "                    self.p1.reset()\n",
        "                    self.p2.reset()\n",
        "                    self.reset()\n",
        "                    break\n",
        "                else:\n",
        "                    # Player 2\n",
        "                   positions = self.availablePositions()\n",
        "                   p2_action = self.p2.chooseAction(positions, self.board, self.playerSymbol)\n",
        "                   self.updateState(p2_action)\n",
        "                   board_hash = self.getHash()\n",
        "                   self.p2.addState(board_hash)\n",
        "\n",
        "                   win = self.winner()\n",
        "                   if win is not None:\n",
        "                        self.giveReward()\n",
        "                        self.p1.reset()\n",
        "                        self.p2.reset()\n",
        "                        self.reset()\n",
        "                        break\n",
        "\n",
        "    def play2(self):\n",
        "        while not self.isEnd:\n",
        "            # Player 1\n",
        "            positions = self.availablePositions()\n",
        "            p1_action = self.p1.chooseAction(positions, self.board, self.playerSymbol)\n",
        "            self.updateState(p1_action)\n",
        "            self.showBoard()\n",
        "            win = self.winner()\n",
        "            if win is not None:\n",
        "                if win == 1:\n",
        "                    print(self.p1.name, \"wins!\")\n",
        "                else:\n",
        "                    print(\"tie!\")\n",
        "                self.reset()\n",
        "                break\n",
        "\n",
        "            # Player 2\n",
        "            positions = self.availablePositions()\n",
        "            p2_action = self.p2.chooseAction(positions)\n",
        "            self.updateState(p2_action)\n",
        "            self.showBoard()\n",
        "            win = self.winner()\n",
        "            if win is not None:\n",
        "                if win == -1:\n",
        "                    print(self.p2.name, \"wins!\")\n",
        "                else:\n",
        "                    print(\"It is a tie!\")\n",
        "                self.reset()\n",
        "                break\n",
        "\n",
        "    def showBoard(self):\n",
        "        # p1: x  p2: o\n",
        "        for i in range(0, BOARD_ROWS):\n",
        "            print('-------------')\n",
        "            out = '| '\n",
        "            for j in range(0, BOARD_COLS):\n",
        "                if self.board[i, j] == 1:\n",
        "                    token = 'x'\n",
        "                elif self.board[i, j] == -1:\n",
        "                    token = 'o'\n",
        "                else:\n",
        "                    token = ' '\n",
        "                out += token + ' | '\n",
        "            print(out)\n",
        "        print('-------------')"
      ]
    },
    {
      "cell_type": "markdown",
      "metadata": {
        "id": "em2wfq32oAKJ"
      },
      "source": [
        "**The Player Class**"
      ]
    },
    {
      "cell_type": "markdown",
      "metadata": {
        "id": "eJu7QGIRoCBK"
      },
      "source": [
        "The Player class represents a player in the game, either a computer or a human"
      ]
    },
    {
      "cell_type": "code",
      "execution_count": null,
      "metadata": {
        "id": "tNon9lorWba6"
      },
      "outputs": [],
      "source": [
        "class Player:\n",
        "  def __init__(self, name, exp_rate=0.3):\n",
        "    self.name = name\n",
        "    self.states = []  # record all positions taken\n",
        "    self.lr = 0.2\n",
        "    self.exp_rate = exp_rate\n",
        "    self.decay_gamma = 0.9\n",
        "    self.states_value = {}  # state -> value\n",
        "  def getHash(self, board):\n",
        "    boardHash = str(board.reshape(BOARD_COLS * BOARD_ROWS))\n",
        "    return boardHash\n",
        "  def chooseAction(self, positions, current_board, symbol):\n",
        "    if np.random.uniform(0, 1) <= self.exp_rate:\n",
        "      # take random action\n",
        "      idx = np.random.choice(len(positions))\n",
        "      action = positions[idx]\n",
        "    else:\n",
        "      value_max = -999\n",
        "      for p in positions:\n",
        "        next_board = current_board.copy()\n",
        "        next_board[p] = symbol\n",
        "        next_boardHash = self.getHash(next_board)\n",
        "        value = 0 if self.states_value.get(next_boardHash) is None else self.states_value.get(next_boardHash)\n",
        "        #26 print(\"value\",value)\n",
        "        if value >= value_max:\n",
        "          value_max = value\n",
        "          action = p\n",
        "    #30 print(\"{} takes action {}\". formate(self.name, action))\n",
        "    return action\n",
        "  #append a hash state\n",
        "  def addState(self, state):\n",
        "    self.states.append(state)\n",
        "    #37 at the end of game, back propagate and update state value\n",
        "  def feedReward(self, reward):\n",
        "    for st in reversed(self.states):\n",
        "      if self.states_value.get(st) is None:\n",
        "        self.states_value[st] = 0\n",
        "        self.states_value[st] += self.lr * (self.decay_gamma * reward - self.states_value[st])\n",
        "      reward = self.states_value[st]\n",
        "  def reset(self):\n",
        "    self.states = []\n",
        "  def savePolicy(self):\n",
        "    fw = open('policy_' + str(self.name), 'wb')\n",
        "    pickle.dump(self.states_value, fw)\n",
        "    fw.close()\n",
        "  def loadPolicy(self, file):\n",
        "    fr = open(file, 'rb')\n",
        "    self.states_value = pickle.load(fr)\n",
        "    fr.close()"
      ]
    },
    {
      "cell_type": "markdown",
      "metadata": {
        "id": "P1YQHGVeoXyF"
      },
      "source": [
        "**The HumanPlayer Class**"
      ]
    },
    {
      "cell_type": "code",
      "execution_count": null,
      "metadata": {
        "id": "RzhaWKwGYPwE"
      },
      "outputs": [],
      "source": [
        "class HumanPlayer:\n",
        "  def __init__(self, name):\n",
        "    self.name = name\n",
        "  def chooseAction(self, positions):\n",
        "    while True:\n",
        "      row = int(input(\"Input your action row:\"))\n",
        "      col = int(input(\"Input your action col:\"))\n",
        "      action = (row, col)\n",
        "      if action in positions:\n",
        "        return action\n",
        "  #13 append a hash state\n",
        "  def addState(self, state):\n",
        "    pass\n",
        "  #17 at the end of game, back propagate and update state value\n",
        "  def feedReward(self, reward):\n",
        "    pass\n",
        "  def reset(self):\n",
        "    pass"
      ]
    },
    {
      "cell_type": "markdown",
      "metadata": {
        "id": "VR3sdfMpYoy5"
      },
      "source": [
        "**Training the Computer Player**"
      ]
    },
    {
      "cell_type": "code",
      "execution_count": null,
      "metadata": {
        "colab": {
          "base_uri": "https://localhost:8080/"
        },
        "id": "bFkfpqT6YrWu",
        "outputId": "d4ba562a-8f8d-4b03-efd8-0a4b9657a317"
      },
      "outputs": [
        {
          "output_type": "stream",
          "name": "stdout",
          "text": [
            "training...\n",
            "Rounds 0\n",
            "Rounds 1000\n",
            "Rounds 2000\n",
            "Rounds 3000\n",
            "Rounds 4000\n"
          ]
        }
      ],
      "source": [
        "p1=Player(\"p1\")\n",
        "p2=Player(\"p2\")\n",
        "st=State(p1, p2)\n",
        "print(\"training...\")\n",
        "st.play(5000)"
      ]
    },
    {
      "cell_type": "markdown",
      "metadata": {
        "id": "NEzCsXsiowGr"
      },
      "source": [
        "**Saving and Loading Policies**"
      ]
    },
    {
      "cell_type": "code",
      "execution_count": null,
      "metadata": {
        "id": "e0C1JI41drCp"
      },
      "outputs": [],
      "source": [
        "p1.savePolicy()\n",
        "p2.savePolicy()"
      ]
    },
    {
      "cell_type": "code",
      "execution_count": null,
      "metadata": {
        "id": "S6v9c8gUdyG2"
      },
      "outputs": [],
      "source": [
        "p1.loadPolicy(\"policy_p1\")"
      ]
    },
    {
      "cell_type": "markdown",
      "metadata": {
        "id": "Mbi-zI_Bd5dd"
      },
      "source": [
        "**Human vs Computer**"
      ]
    },
    {
      "cell_type": "code",
      "execution_count": null,
      "metadata": {
        "colab": {
          "base_uri": "https://localhost:8080/"
        },
        "id": "5bZuL8sEd91X",
        "outputId": "d3ade94f-eca8-4232-a02a-c8c5f1c050d3"
      },
      "outputs": [
        {
          "output_type": "stream",
          "name": "stdout",
          "text": [
            "-------------\n",
            "|   |   |   | \n",
            "-------------\n",
            "|   |   |   | \n",
            "-------------\n",
            "|   | x |   | \n",
            "-------------\n"
          ]
        }
      ],
      "source": [
        "p1 = Player(\"computer\", exp_rate=0)\n",
        "p1.loadPolicy(\"policy_p1\")\n",
        "\n",
        "p2 = HumanPlayer(\"human\")\n",
        "\n",
        "st = State(p1, p2)\n",
        "st.play2()"
      ]
    }
  ],
  "metadata": {
    "colab": {
      "provenance": [],
      "authorship_tag": "ABX9TyPmztBLsEKf3Sg8ztsdbfuU",
      "include_colab_link": true
    },
    "kernelspec": {
      "display_name": "Python 3",
      "name": "python3"
    },
    "language_info": {
      "name": "python"
    }
  },
  "nbformat": 4,
  "nbformat_minor": 0
}